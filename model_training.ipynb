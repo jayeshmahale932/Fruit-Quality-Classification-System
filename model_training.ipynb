{
 "cells": [
  {
   "cell_type": "code",
   "execution_count": 2,
   "metadata": {
    "id": "vQ2eRmCLrNKo"
   },
   "outputs": [],
   "source": [
    "import os\n",
    "import cv2\n",
    "import joblib\n",
    "import numpy as np\n",
    "from sklearn.svm import SVC\n",
    "from sklearn.metrics import accuracy_score\n",
    "from skimage.feature import local_binary_pattern\n",
    "from sklearn.preprocessing import StandardScaler\n",
    "from sklearn.model_selection import train_test_split"
   ]
  },
  {
   "cell_type": "code",
   "execution_count": 3,
   "metadata": {
    "id": "ZsmEwTnLrNKq"
   },
   "outputs": [],
   "source": [
    "def extract_color_features(image):\n",
    "    hist_b = cv2.calcHist([image], [0], None, [256], [0, 256])\n",
    "    hist_g = cv2.calcHist([image], [1], None, [256], [0, 256])\n",
    "    hist_r = cv2.calcHist([image], [2], None, [256], [0, 256])\n",
    "    color_features = np.concatenate((hist_b, hist_g, hist_r))\n",
    "    return color_features"
   ]
  },
  {
   "cell_type": "code",
   "execution_count": 4,
   "metadata": {
    "id": "Afy_0acBrNKq"
   },
   "outputs": [],
   "source": [
    "def extract_texture_features(image):\n",
    "    gray = cv2.cvtColor(image, cv2.COLOR_BGR2GRAY)\n",
    "    lbp_image = local_binary_pattern(gray, P=8, R=1, method='uniform')\n",
    "    lbp_hist, _ = np.histogram(lbp_image.ravel(), bins=np.arange(0, 59), range=(0, 58))\n",
    "    return lbp_hist"
   ]
  },
  {
   "cell_type": "code",
   "execution_count": 5,
   "metadata": {
    "id": "gDE4SKRnrNKq"
   },
   "outputs": [],
   "source": [
    "def extract_features(data):\n",
    "    color_features = []\n",
    "    texture_features = []\n",
    "    extracted_features = []\n",
    "\n",
    "    for image in data:\n",
    "        image = cv2.resize(image, (128, 128))\n",
    "        color_feats = extract_color_features(image)\n",
    "        color_features.append(color_feats)\n",
    "\n",
    "        texture_feats = extract_texture_features(image)\n",
    "        texture_features.append(texture_feats)\n",
    "\n",
    "    for i in range(len(data)):\n",
    "        color_flat = color_features[i].ravel()\n",
    "        texture_flat = texture_features[i].ravel()\n",
    "\n",
    "        combined = np.concatenate((color_flat, texture_flat))\n",
    "        extracted_features.append(combined)\n",
    "\n",
    "    return extracted_features"
   ]
  },
  {
   "cell_type": "code",
   "execution_count": 6,
   "metadata": {
    "id": "YLFnKA_CrNKq"
   },
   "outputs": [],
   "source": [
    "dataset = 'Fruit Dataset'\n",
    "data = []\n",
    "labels = []\n",
    "classes = ['good', 'bad', 'mixed']\n",
    "fruit_names = ['apple', 'guava', 'banana', 'lemon', 'orange', 'pomegranate']\n",
    "batch_size = 32"
   ]
  },
  {
   "cell_type": "code",
   "execution_count": 7,
   "metadata": {
    "id": "LNoYezR4f3oR"
   },
   "outputs": [],
   "source": [
    "def image_generator(dataset, classes, fruit_names, batch_size):\n",
    "    data = []\n",
    "    labels = []\n",
    "\n",
    "    for class_name in classes:\n",
    "        for fruit_name in fruit_names:\n",
    "            image_folder = os.path.join(dataset, class_name, fruit_name)\n",
    "            for image in os.listdir(image_folder):\n",
    "                image_path = os.path.join(image_folder, image)\n",
    "                if os.path.isfile(image_path):\n",
    "                    image = cv2.imread(image_path)\n",
    "                    data.append(image)\n",
    "                    labels.append(class_name)\n",
    "\n",
    "                    if len(data) == batch_size:\n",
    "                        yield data, labels\n",
    "                        data = []\n",
    "                        labels = []\n",
    "\n",
    "    if data:\n",
    "        yield data, labels"
   ]
  },
  {
   "cell_type": "code",
   "execution_count": 8,
   "metadata": {
    "id": "u1F8Hqj_gbyS"
   },
   "outputs": [],
   "source": [
    "X_train = []\n",
    "y_train = []\n",
    "\n",
    "for data_batch, labels_batch in image_generator(dataset, classes, fruit_names, batch_size):\n",
    "    extracted_features = extract_features(data_batch)\n",
    "    X_train.extend(extracted_features)\n",
    "    y_train.extend(labels_batch)"
   ]
  },
  {
   "cell_type": "code",
   "execution_count": 9,
   "metadata": {
    "id": "EkUckLTHrNKr"
   },
   "outputs": [],
   "source": [
    "X_train, X_test, y_train, y_test = train_test_split(X_train, y_train, test_size=0.2, random_state=42)"
   ]
  },
  {
   "cell_type": "code",
   "execution_count": 10,
   "metadata": {
    "colab": {
     "base_uri": "https://localhost:8080/"
    },
    "id": "nusGaJmjrNKr",
    "outputId": "23ea974b-abcf-4f2f-b86c-679bc2adc725"
   },
   "outputs": [
    {
     "data": {
      "text/plain": [
       "['scaler.h5']"
      ]
     },
     "execution_count": 10,
     "metadata": {},
     "output_type": "execute_result"
    }
   ],
   "source": [
    "scaler = StandardScaler()\n",
    "X_train = scaler.fit_transform(X_train)\n",
    "X_test = scaler.transform(X_test)\n",
    "joblib.dump(scaler, 'scaler.h5')"
   ]
  },
  {
   "cell_type": "code",
   "execution_count": 11,
   "metadata": {
    "colab": {
     "base_uri": "https://localhost:8080/"
    },
    "id": "M8pBwsp1rNKr",
    "outputId": "8d759120-3193-409c-c3a1-861a4198f3b6"
   },
   "outputs": [],
   "source": [
    "model = SVC(kernel='linear')\n",
    "model.fit(X_train, y_train)\n",
    "joblib.dump(model, 'model.h5')"
   ]
  },
  {
   "cell_type": "code",
   "execution_count": null,
   "metadata": {
    "id": "98QIkOlGrNKs"
   },
   "outputs": [],
   "source": [
    "predictions = model.predict(X_test)"
   ]
  },
  {
   "cell_type": "code",
   "execution_count": null,
   "metadata": {
    "colab": {
     "base_uri": "https://localhost:8080/"
    },
    "id": "FXuP9R34rNKs",
    "outputId": "b95afb51-278c-4a91-d84e-d046ad490b99"
   },
   "outputs": [
    {
     "name": "stdout",
     "output_type": "stream",
     "text": [
      "Accuracy: 86.33%\n"
     ]
    }
   ],
   "source": [
    "accuracy = accuracy_score(y_test, predictions)\n",
    "print(f'Accuracy: {accuracy*100:.2f}%')"
   ]
  }
 ],
 "metadata": {
  "accelerator": "GPU",
  "colab": {
   "gpuType": "T4",
   "provenance": []
  },
  "kernelspec": {
   "display_name": "Python 3 (ipykernel)",
   "language": "python",
   "name": "python3"
  },
  "language_info": {
   "codemirror_mode": {
    "name": "ipython",
    "version": 3
   },
   "file_extension": ".py",
   "mimetype": "text/x-python",
   "name": "python",
   "nbconvert_exporter": "python",
   "pygments_lexer": "ipython3",
   "version": "3.10.11"
  }
 },
 "nbformat": 4,
 "nbformat_minor": 1
}
